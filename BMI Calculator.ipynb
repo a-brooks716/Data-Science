{
 "cells": [
  {
   "cell_type": "markdown",
   "id": "4087c9fd-4c59-4f93-a4fb-34a7c2555611",
   "metadata": {},
   "source": [
    "# BMI Calculator"
   ]
  },
  {
   "cell_type": "code",
   "execution_count": 29,
   "id": "cd91ea72-1e57-416d-9436-ffa4a1960350",
   "metadata": {},
   "outputs": [
    {
     "name": "stdin",
     "output_type": "stream",
     "text": [
      "Enter your name:  Ashlyn\n",
      "Enter your weight in pounds:  135\n",
      "Enter your height in inches:  65\n"
     ]
    },
    {
     "name": "stdout",
     "output_type": "stream",
     "text": [
      "23.325443786982248\n"
     ]
    }
   ],
   "source": [
    "name = str(input(\"Enter your name: \"))\n",
    "weight = int(input(\"Enter your weight in pounds: \"))\n",
    "height = int(input(\"Enter your height in inches: \"))\n",
    "BMI = (weight *730) / (height * height)\n",
    "\n",
    "print(BMI)\n"
   ]
  },
  {
   "cell_type": "code",
   "execution_count": null,
   "id": "ee2d8f8c-5d81-4425-a512-b3410f1ed556",
   "metadata": {},
   "outputs": [],
   "source": []
  },
  {
   "cell_type": "code",
   "execution_count": 31,
   "id": "2a3df602-0e05-4c56-9260-b841bf9833a5",
   "metadata": {},
   "outputs": [
    {
     "name": "stdout",
     "output_type": "stream",
     "text": [
      "Ashlyn, you are a normal weight.\n"
     ]
    }
   ],
   "source": [
    "if BMI>0:\n",
    "    if(BMI<18.5):\n",
    "        print(name+\", you are underweight.\")\n",
    "    \n",
    "    elif (BMI<=24.9):\n",
    "        print(name+ \", you are a normal weight.\")\n",
    "   \n",
    "    elif (BMI<29.9):\n",
    "        print(name + \", you are over weight.\")\n",
    "    \n",
    "    elif (BMI<34.9):\n",
    "        print(name+ \", you are obese.\")\n",
    "\n",
    "    elif (BMI>39.9):\n",
    "        print(name+ \", you are severly obese.\")\n",
    "    \n",
    "    else: \n",
    "        print(\"Enter valid input\")"
   ]
  },
  {
   "cell_type": "code",
   "execution_count": null,
   "id": "2dffc435-9955-4240-b187-dbd52b51569c",
   "metadata": {},
   "outputs": [],
   "source": []
  }
 ],
 "metadata": {
  "kernelspec": {
   "display_name": "Python 3 (ipykernel)",
   "language": "python",
   "name": "python3"
  },
  "language_info": {
   "codemirror_mode": {
    "name": "ipython",
    "version": 3
   },
   "file_extension": ".py",
   "mimetype": "text/x-python",
   "name": "python",
   "nbconvert_exporter": "python",
   "pygments_lexer": "ipython3",
   "version": "3.12.4"
  }
 },
 "nbformat": 4,
 "nbformat_minor": 5
}
